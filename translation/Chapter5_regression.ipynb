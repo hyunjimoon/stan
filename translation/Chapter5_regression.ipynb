{
 "cells": [
  {
   "cell_type": "code",
   "execution_count": 2,
   "metadata": {},
   "outputs": [],
   "source": [
    "# Import libraries\n",
    "import pystan # install with pip install pystan\n",
    "import pandas as pd\n",
    "import numpy as np\n",
    "import seaborn as sns\n",
    "from scipy.stats import beta\n",
    "import matplotlib.pyplot as plt\n",
    "import pickle\n",
    "import hashlib\n",
    "import time\n",
    "\n",
    "def get_stan_model(code):\n",
    "    code_hash = hashlib.sha1(code.encode('utf-8')).hexdigest()\n",
    "    cache_path =  './cache/' + code_hash + '.pkl'\n",
    "    try:\n",
    "        with open(cache_path, 'rb') as file:\n",
    "            model = pickle.load(file)\n",
    "    except Exception:\n",
    "        model = pystan.StanModel(model_code=code) ## c로 변환\n",
    "        with open(cache_path, 'wb') as file:\n",
    "\n",
    "            pickle.dump(model, file)\n",
    "    return model"
   ]
  },
  {
   "cell_type": "code",
   "execution_count": null,
   "metadata": {},
   "outputs": [],
   "source": [
    "### 활용팁\n",
    "- parameter summary\n",
    "params.summary().keys()\n",
    "\n",
    "#매개변수 여러개인 경우 슬라이싱 통해 가능\n",
    "np.median(params.summary()['summary'][:100, 0])\n",
    "\n",
    "#설명\n",
    "help(pystan.StanModel.sampling, alg)"
   ]
  },
  {
   "cell_type": "markdown",
   "metadata": {},
   "source": [
    "## 5.1 중회귀"
   ]
  },
  {
   "cell_type": "markdown",
   "metadata": {},
   "source": [
    "A: 아르바이트 선호 여부(0: 좋아하지 않음, 1: 좋아함)\n",
    "\n",
    "Score: 학문 흥미도 수치화(200만점)\n",
    "\n",
    "Y: 1년간 출석률"
   ]
  },
  {
   "cell_type": "code",
   "execution_count": 3,
   "metadata": {
    "scrolled": true
   },
   "outputs": [],
   "source": [
    "#data\n",
    "df = pd.read_csv('data/data-attendance-1.txt')\n",
    "\n",
    "#model\n",
    "model_5_3 ='''\n",
    "data {\n",
    "    int N;\n",
    "    real A[N];\n",
    "    real Score[N];\n",
    "    real Y[N];\n",
    "}\n",
    "\n",
    "parameters {\n",
    "    real b[3];\n",
    "    real <lower = 0> sigma;\n",
    "}\n",
    "\n",
    "transformed parameters {\n",
    "    real mu[N];\n",
    "    for (n in 1:N)\n",
    "        mu[n] = b[1] + b[2] * A[n] + b[3] * Score[n];\n",
    "}\n",
    "\n",
    "model {\n",
    "    for (n in 1:N)\n",
    "        Y[n] ~ normal(mu[n], sigma);\n",
    "}\n",
    "        \n",
    "generated quantities {\n",
    "    real y_pred[N];\n",
    "    for (n in 1:N){\n",
    "        y_pred[n] = normal_rng(mu[n], sigma);\n",
    "    }\n",
    "}\n",
    "\n",
    "'''\n",
    "\n",
    "#python interface\n",
    "\n",
    "data = {\n",
    "    'N': df.shape[0],\n",
    "    'A' : df.iloc[:,0],\n",
    "    'Score' : df.iloc[:,1],\n",
    "    'Y' : df.iloc[:,2],\n",
    "}\n",
    "\n",
    "#result\n",
    "model_5_3 = get_stan_model(model_5_3)\n",
    "params = model_5_3.sampling(data = data)\n",
    "\n",
    "#stan의 indexing은 1부터 시작하므로 유의하자"
   ]
  },
  {
   "cell_type": "markdown",
   "metadata": {},
   "source": [
    "독립, 종속변수를 벡터화"
   ]
  },
  {
   "cell_type": "code",
   "execution_count": 33,
   "metadata": {},
   "outputs": [],
   "source": [
    "#data\n",
    "df = pd.read_csv('data/data-attendance-1.txt')\n",
    "\n",
    "#model\n",
    "model_5_3 ='''\n",
    "data {\n",
    "    int N;\n",
    "    vector[N] A;\n",
    "    vector[N] Score;\n",
    "    vector[N] Y;\n",
    "}\n",
    "\n",
    "parameters {\n",
    "    real b[3];\n",
    "    real <lower = 0> sigma;\n",
    "}\n",
    "\n",
    "transformed parameters {\n",
    "    vector[N] mu;\n",
    "        mu = b[1] + b[2] * A + b[3] * Score;\n",
    "}\n",
    "\n",
    "model {\n",
    "\n",
    "    Y ~ normal(mu, sigma);\n",
    "}\n",
    "\n",
    "'''\n",
    "\n",
    "#python interface\n",
    "data = {\n",
    "    'N': df.shape[0],\n",
    "    'A' : df.iloc[:,0],\n",
    "    'Score' : df.iloc[:,1],\n",
    "    'Y' : df.iloc[:,2],\n",
    "}\n",
    "#result\n",
    "model_5_3 = get_stan_model(model_5_3)\n",
    "params = model_5_3.sampling(data = data)"
   ]
  },
  {
   "cell_type": "markdown",
   "metadata": {},
   "source": [
    "## 5.2 Binomial Logistics regression"
   ]
  },
  {
   "cell_type": "markdown",
   "metadata": {},
   "source": [
    "personID: ID\n",
    "\n",
    "M: 3개월 과정으로 등록한 과목의 총 수업 횟수, \n",
    "\n",
    "Y: 실제 출석 횟수"
   ]
  },
  {
   "cell_type": "markdown",
   "metadata": {},
   "source": [
    "출석이라는 사건이 전체 수업일수 중 p의 확률로 발생하는 이항분포를 따른다고 가정"
   ]
  },
  {
   "cell_type": "code",
   "execution_count": 7,
   "metadata": {},
   "outputs": [],
   "source": [
    "#data\n",
    "df = pd.read_csv('data/data-attendance-2.csv')"
   ]
  },
  {
   "cell_type": "code",
   "execution_count": 8,
   "metadata": {},
   "outputs": [],
   "source": [
    "df['ratio'] = df['Y'] / df['M']"
   ]
  },
  {
   "cell_type": "code",
   "execution_count": 9,
   "metadata": {
    "scrolled": true
   },
   "outputs": [
    {
     "data": {
      "text/plain": [
       "<seaborn.axisgrid.PairGrid at 0x11e58ad68>"
      ]
     },
     "execution_count": 9,
     "metadata": {},
     "output_type": "execute_result"
    },
    {
     "data": {
      "image/png": "[encoded data removed]",
      "text/plain": [
       "<Figure size 900x900 with 30 Axes>"
      ]
     },
     "metadata": {
      "needs_background": "light"
     },
     "output_type": "display_data"
    }
   ],
   "source": [
    "sns.pairplot(data = df.iloc[:, 1:])"
   ]
  },
  {
   "cell_type": "code",
   "execution_count": 21,
   "metadata": {
    "scrolled": true
   },
   "outputs": [
    {
     "name": "stderr",
     "output_type": "stream",
     "text": [
      "INFO:pystan:COMPILING THE C++ CODE FOR MODEL anon_model_be2a18c3c6c890ec37f5889c8cbc652d NOW.\n",
      "WARNING:pystan:n_eff / iter below 0.001 indicates that the effective sample size has likely been overestimated\n",
      "WARNING:pystan:Rhat above 1.1 or below 0.9 indicates that the chains very likely have not mixed\n",
      "WARNING:pystan:3246 of 4000 iterations ended with a divergence (81.2 %).\n",
      "WARNING:pystan:Try running with adapt_delta larger than 0.8 to remove the divergences.\n",
      "WARNING:pystan:31 of 4000 iterations saturated the maximum tree depth of 10 (0.775 %)\n",
      "WARNING:pystan:Run again with max_treedepth larger than 10 to avoid saturation\n"
     ]
    }
   ],
   "source": [
    "#data\n",
    "df = pd.read_csv('data/data-attendance-2.csv')\n",
    "\n",
    "#model\n",
    "model_5_4 ='''\n",
    "data {\n",
    "    int N;\n",
    "    vector <lower = 0, upper =1>[N] A;\n",
    "    vector <lower = 0, upper =1>[N] Score;\n",
    "    int <lower = 0> M[N];\n",
    "    int <lower = 0> Y[N];\n",
    "}\n",
    "\n",
    "\n",
    "parameters {\n",
    "    real b[3];\n",
    "    real <lower = 0> sigma;\n",
    "}\n",
    "\n",
    "model {\n",
    "\n",
    "    Y ~ binomial_logit(M, b[1] + b[2] * A + b[3] * Score);\n",
    "}\n",
    "\n",
    "'''\n",
    "norm_score = df.iloc[:,1]/max(df.iloc[:,1])\n",
    "#python interface\n",
    "data = {\n",
    "    'N': df.shape[0],\n",
    "    'A' : df.iloc[:,1],\n",
    "    'Score' : norm_score,\n",
    "    'M' : df.iloc[:,2],\n",
    "    'Y' : df.iloc[:,3],\n",
    "}\n",
    "#result\n",
    "model_5_4 = get_stan_model(model_5_4)\n",
    "params = model_5_4.sampling(data = data)\n",
    "\n",
    "# 1.vector선언시 순서: 모수제약(범위) -> vector 크기\n",
    "# 2. Y는 이항분포의 결과로 int형이므로 vector로 선언이 불가하다"
   ]
  },
  {
   "cell_type": "markdown",
   "metadata": {},
   "source": [
    "## 5.3 logistic regression"
   ]
  },
  {
   "cell_type": "markdown",
   "metadata": {},
   "source": [
    "1.데이터의 형태가 한 row가 ID기준의 집계값이었다면, 여기선 출석 1회 사건 \n",
    "\n",
    "-> 데이터 개수 변수가 N에서 I가 됨\n",
    "-> y가 출석횟수에서 출석여부로 바뀌면서 이항분포가 베르누이 분포가 됨\n",
    "\n",
    "2. 이산값(문자열)데이터이 날씨가 출석에 영향미침 -> 수치화"
   ]
  },
  {
   "cell_type": "markdown",
   "metadata": {},
   "source": [
    "$$q[i] \\sim inv\\_logit(b1 + b2 * A[i] + b3 * Score[i] + b4 * Weather$$\n",
    "$$Y[i] \\sim Bernoulli(q[i])$$"
   ]
  },
  {
   "cell_type": "code",
   "execution_count": 5,
   "metadata": {
    "scrolled": true
   },
   "outputs": [
    {
     "name": "stderr",
     "output_type": "stream",
     "text": [
      "WARNING:pystan:n_eff / iter below 0.001 indicates that the effective sample size has likely been overestimated\n",
      "WARNING:pystan:Rhat above 1.1 or below 0.9 indicates that the chains very likely have not mixed\n",
      "WARNING:pystan:2583 of 4000 iterations ended with a divergence (64.6 %).\n",
      "WARNING:pystan:Try running with adapt_delta larger than 0.8 to remove the divergences.\n",
      "WARNING:pystan:880 of 4000 iterations saturated the maximum tree depth of 10 (22 %)\n",
      "WARNING:pystan:Run again with max_treedepth larger than 10 to avoid saturation\n"
     ]
    }
   ],
   "source": [
    "# read data\n",
    "df = pd.read_csv('data/data-attendance-3.txt')\n",
    "\n",
    "\n",
    "#model\n",
    "model_5_5 ='''\n",
    "data {\n",
    "    int N;\n",
    "    vector <lower = 0, upper =1>[N] A;\n",
    "    vector <lower = 0, upper =1>[N] Score;\n",
    "    real <lower = 0> W[N];\n",
    "    int <lower = 0> Y[N];\n",
    "}\n",
    "\n",
    "\n",
    "parameters {\n",
    "    real b[3];\n",
    "    real <lower = 0> sigma;\n",
    "}\n",
    "\n",
    "model {\n",
    "\n",
    "    Y ~ bernoulli_logit(b[1] + b[2] * A + b[3] * Score);\n",
    "}\n",
    "\n",
    "'''\n",
    "label = {'A': 0, 'B': 0.2,'C': 1}\n",
    "\n",
    "norm_score = df.iloc[:,1]/max(df.iloc[:,1])\n",
    "#python interface\n",
    "data = {\n",
    "    'N': df.shape[0],\n",
    "    'A' : df.iloc[:,1],\n",
    "    'Score' : norm_score,\n",
    "    'W' : df.iloc[:,3].apply(lambda x: label[x]),\n",
    "    'Y' : df.iloc[:,4],\n",
    "}\n",
    "#result\n",
    "model_5_5 = get_stan_model(model_5_5)\n",
    "params = model_5_5.sampling(data = data)"
   ]
  },
  {
   "cell_type": "markdown",
   "metadata": {},
   "source": [
    "## 5.4 poisson regression"
   ]
  },
  {
   "cell_type": "markdown",
   "metadata": {},
   "source": [
    "전체 수업횟수 M과 A와 Score의 영향관계 파악?\n",
    "\n",
    "전체 수업횟수 M과 같이 값이 이산형, 0이상인 경우는 poisson regression"
   ]
  },
  {
   "cell_type": "code",
   "execution_count": 6,
   "metadata": {},
   "outputs": [],
   "source": [
    "#data\n",
    "df = pd.read_csv('data/data-attendance-2.csv')\n",
    "\n",
    "#model\n",
    "model_5_6 ='''\n",
    "data {\n",
    "  int N;\n",
    "  int<lower=0, upper=1> A[N];\n",
    "  real<lower=0, upper=1> Score[N];\n",
    "  int<lower=0> M[N];\n",
    "}\n",
    "\n",
    "parameters {\n",
    "  real b[3];\n",
    "}\n",
    "\n",
    "transformed parameters {\n",
    "  real lambda[N];\n",
    "    lambda[n] = exp(b[1] + b[2]*A[n] + b[3]*Score[n]);\n",
    "}\n",
    "\n",
    "model {\n",
    "  for (n in 1:N)\n",
    "    M[n] ~ poisson(lambda[n]);\n",
    "}\n",
    "\n",
    "generated quantities {\n",
    "  int m_pred[N];\n",
    "  for (n in 1:N)\n",
    "    m_pred[n] = poisson_rng(lambda[n]);\n",
    "}\n",
    "\n",
    "'''\n",
    "#python interface\n",
    "data = {\n",
    "    'N': df.shape[0],\n",
    "    'A' : df.iloc[:,0],\n",
    "    'Score' : norm_score,\n",
    "    'M' : df.iloc[:,2],\n",
    "}\n",
    "\n",
    "model_5_6 = get_stan_model(model_5_6)\n",
    "params = model_5_6.sampling(data = data)"
   ]
  },
  {
   "cell_type": "code",
   "execution_count": 49,
   "metadata": {},
   "outputs": [],
   "source": [
    "#data\n",
    "df = pd.read_csv('data/data-attendance-2.csv')\n",
    "\n",
    "#model\n",
    "model_5_6 ='''\n",
    "data {\n",
    "  int N;\n",
    "  vector<lower=0, upper=1>[N] A;\n",
    "  vector <lower=0, upper=1>[N] Score;\n",
    "  int <lower=0> M[N];\n",
    "}\n",
    "\n",
    "parameters {\n",
    "  real b[3];\n",
    "}\n",
    "\n",
    "transformed parameters {\n",
    "    vector[N] lambda;\n",
    "    lambda = exp(b[1] + b[2]*A + b[3]*Score);\n",
    "}\n",
    "\n",
    "model {\n",
    "    M ~ poisson(lambda);\n",
    "}\n",
    "\n",
    "generated quantities {\n",
    "  int m_pred[N];\n",
    "  m_pred = poisson_rng(lambda);\n",
    "}\n",
    "\n",
    "''' \n",
    "norm_score = df.iloc[:,2]/max(df.iloc[:,2])\n",
    "\n",
    "#python interface\n",
    "data = {\n",
    "    'N': df.shape[0],\n",
    "    'A' : df.iloc[:,1],\n",
    "    'Score' : norm_score,\n",
    "    'M' : df.iloc[:,2],\n",
    "}\n",
    "\n",
    "model_5_6 = get_stan_model(model_5_6)\n",
    "params = model_5_6.sampling(data = data)"
   ]
  },
  {
   "cell_type": "markdown",
   "metadata": {},
   "source": [
    "앞서 이항분포에서 Y가 int값이기에 벡터형 선언불가했던 이유와 마찬가지 이유로 다음과 같은 코드는 에러다. stan은 형에 비교적 엄격하다.\n",
    "<pre><code>\n",
    "data {\n",
    "  int N;\n",
    "  vector<lower=0, upper=1>[N] A;\n",
    "  vector <lower=0, upper=1>[N] Score;\n",
    "  vector <lower=0>[N] M;\n",
    "}\n",
    "\n",
    "parameters {\n",
    "  real b[3];\n",
    "}\n",
    "\n",
    "transformed parameters {\n",
    "    vector[N] lambda;\n",
    "    lambda = exp(b[1] + b[2]*A + b[3]*Score);\n",
    "}\n",
    "\n",
    "model {\n",
    "    M ~ poisson(lambda);\n",
    "}\n",
    "</pre></code>\n",
    "\n"
   ]
  },
  {
   "cell_type": "code",
   "execution_count": 52,
   "metadata": {},
   "outputs": [
    {
     "name": "stderr",
     "output_type": "stream",
     "text": [
      "WARNING:pystan:Truncated summary with the 'fit.__repr__' method. For the full summary use 'print(fit)'\n"
     ]
    },
    {
     "data": {
      "text/plain": [
       "\n",
       "Warning: Shown data is truncated to 100 parameters\n",
       "For the full summary use 'print(fit)'\n",
       "\n",
       "Inference for Stan model: anon_model_a0f90fad1234a8ae11ec96882e9d416f.\n",
       "4 chains, each with iter=2000; warmup=1000; thin=1; \n",
       "post-warmup draws per chain=1000, total post-warmup draws=4000.\n",
       "\n",
       "             mean se_mean     sd   2.5%    25%    50%    75%  97.5%  n_eff   Rhat\n",
       "b[1]         3.76  1.7e-3   0.06   3.64   3.72   3.77   3.81   3.89   1361    1.0\n",
       "b[2]       7.8e-3  6.4e-4   0.03  -0.04  -0.01 7.9e-3   0.03   0.06   1727    1.0\n",
       "b[3]         1.53  2.4e-3   0.09   1.36   1.47   1.53   1.59   1.71   1317    1.0\n",
       "lambda[1]   76.42    0.06   2.47  71.67  74.73  76.41  78.07  81.32   1492    1.0\n",
       "lambda[2]   144.4    0.07    3.2 138.13 142.25 144.41 146.53 150.65   2101    1.0\n",
       "lambda[3]  121.41    0.04   2.04  117.3 120.07 121.42 122.79 125.35   2626    1.0\n",
       "lambda[4]   88.64    0.06   2.51  83.84  86.91  88.61   90.3  93.62   1707    1.0\n",
       "lambda[5]  160.81    0.09   4.04 152.81 158.12 160.76 163.49 168.86   1831    1.0\n",
       "lambda[6]  129.72    0.04   2.19 125.35 128.27 129.71 131.16 134.02   2679    1.0\n",
       "lambda[7]  108.14    0.04    2.0 104.24 106.79 108.11 109.47 112.08   2176    1.0\n",
       "lambda[8]  146.81    0.07   3.31 140.33 144.62 146.82 149.03 153.36   2055    1.0\n",
       "lambda[9]  144.45    0.06   2.72  139.2 142.67 144.42 146.29 149.73   2425    1.0\n",
       "lambda[10] 143.26    0.05   2.66  138.1 141.51 143.23 145.05  148.4   2452    1.0\n",
       "lambda[11]  139.7    0.06   3.01 133.85 137.71  139.7 141.71 145.52   2195    1.0\n",
       "lambda[12] 134.09    0.05   2.32 129.55 132.54  134.1 135.61 138.64   2633    1.0\n",
       "lambda[13] 115.49    0.05   2.43 110.84 113.82 115.47 117.13 120.27   2252    1.0\n",
       "lambda[14] 108.14    0.04    2.0 104.24 106.79 108.11 109.47 112.08   2176    1.0\n",
       "lambda[15] 106.36    0.04   2.01 102.47  105.0 106.33  107.7 110.34   2108    1.0\n",
       "lambda[16]   98.7    0.06   2.42  94.11  97.03  98.64 100.29 103.49   1893    1.0\n",
       "lambda[17] 110.85    0.04   1.99  107.0 109.53 110.83 112.18 114.82   2285    1.0\n",
       "lambda[18]  85.09    0.06   2.32  80.66  83.52  85.08  86.64  89.67   1586    1.0\n",
       "lambda[19] 199.52    0.16   6.32 187.75 195.07 199.45 203.78 212.34   1550    1.0\n",
       "lambda[20] 158.17    0.09   3.89 150.49 155.59 158.13 160.77 165.88   1867    1.0\n",
       "lambda[21]  88.64    0.06   2.51  83.84  86.91  88.61   90.3  93.62   1707    1.0\n",
       "lambda[22] 106.32    0.05   2.39 101.76 104.67 106.27 107.92 111.03   2064    1.0\n",
       "lambda[23] 104.58    0.05   2.39 100.04 102.93 104.53 106.16 109.33   2024    1.0\n",
       "lambda[24] 142.03    0.07    3.1 135.94 139.97 142.04  144.1 148.06   2147    1.0\n",
       "lambda[25] 114.54    0.05   2.42 109.92 112.87 114.51 116.18  119.3   2236    1.0\n",
       "lambda[26] 125.45    0.05   2.58 120.49 123.69 125.44 127.22 130.52   2347    1.0\n",
       "lambda[27] 115.53    0.04   1.99  111.6 114.22 115.49 116.88 119.45   2476    1.0\n",
       "lambda[28] 115.53    0.04   1.99  111.6 114.22 115.49 116.88 119.45   2476    1.0\n",
       "lambda[29] 163.55    0.09   3.74  156.5 160.96 163.53 166.06  171.0   1895    1.0\n",
       "lambda[30] 109.94    0.04   1.99 106.08 108.61 109.91 111.27 113.89   2248    1.0\n",
       "lambda[31]  170.4    0.11   4.62 161.34 167.37 170.34 173.44  179.7   1734    1.0\n",
       "lambda[32]  80.28    0.07    2.6   75.2  78.51  80.21  81.98  85.45   1596    1.0\n",
       "lambda[33] 136.27    0.06   2.88 130.62 134.34 136.27 138.21 141.93   2263    1.0\n",
       "lambda[34] 121.37    0.05    2.5 116.55 119.65 121.36  123.1 126.25   2326    1.0\n",
       "lambda[35] 122.42    0.04   2.05  118.3 121.07 122.44 123.81  126.4   2643    1.0\n",
       "lambda[36] 127.59    0.04   2.14 123.29 126.17  127.6 129.01 131.76   2685    1.0\n",
       "lambda[37] 103.72    0.05   2.39  99.19 102.07 103.67  105.3 108.43   2004    1.0\n",
       "lambda[38] 107.25    0.04   2.01 103.37 105.88 107.22 108.58 111.18   2142    1.0\n",
       "lambda[39]  90.16    0.05   2.23   85.9  88.64  90.11  91.63  94.61   1666    1.0\n",
       "lambda[40]  89.41    0.06   2.24  85.13  87.89  89.37  90.89   93.9   1653    1.0\n",
       "lambda[41]  125.5    0.04    2.1 121.27 124.12 125.52 126.89 129.59   2678    1.0\n",
       "lambda[42] 129.72    0.04   2.19 125.35 128.27 129.71 131.16 134.02   2679    1.0\n",
       "lambda[43] 118.44    0.04   2.01  114.4 117.11  118.4 119.79 122.33   2559    1.0\n",
       "lambda[44] 146.86    0.06   2.83 141.43  145.0 146.82 148.78 152.36   2373    1.0\n",
       "lambda[45] 194.62    0.15   5.94 183.44 190.46 194.55 198.59 206.67   1575    1.0\n",
       "lambda[46]  102.9    0.05   2.05  98.95 101.51 102.86 104.28 106.96   1987    1.0\n",
       "lambda[47]  65.87    0.07   2.62  60.92  64.09  65.82  67.55  71.11   1423    1.0\n",
       "lambda[48] 149.32    0.06   2.95 143.64 147.33 149.26 151.29 155.09   2317    1.0\n",
       "lambda[49]  97.92    0.05   2.11   93.9  96.52  97.85  99.34  102.1   1841    1.0\n",
       "lambda[50]   98.7    0.06   2.42  94.11  97.03  98.64 100.29 103.49   1893    1.0\n",
       "m_pred[1]   76.71    0.15   9.21   60.0   70.0   77.0   83.0   95.0   3586    1.0\n",
       "m_pred[2]  144.31     0.2  12.54  120.4  136.0  144.0  153.0  168.0   3863    1.0\n",
       "m_pred[3]  121.28    0.18  11.09  100.0  114.0  121.0  129.0  143.0   3698    1.0\n",
       "m_pred[4]   88.65    0.15   9.64   70.0   82.0   89.0   95.0  108.0   4054    1.0\n",
       "m_pred[5]  160.77    0.22  13.55  134.0  152.0  160.0  170.0  188.0   3679    1.0\n",
       "m_pred[6]  129.79    0.18  11.52  108.0  122.0  130.0  138.0  153.0   3962    1.0\n",
       "m_pred[7]  108.04    0.17  10.49   88.0  101.0  108.0  115.0  129.0   3902    1.0\n",
       "m_pred[8]   146.6    0.21  12.54  123.0  138.0  146.0  155.0  172.0   3544    1.0\n",
       "m_pred[9]   144.5    0.19  12.12  121.0  136.0  144.0  153.0 168.59   4223    1.0\n",
       "m_pred[10] 143.32    0.21  12.17  120.0  135.0  143.0  152.0  168.0   3474    1.0\n",
       "m_pred[11] 139.73    0.19  12.32  117.0  131.0  139.0  148.0  164.0   4010    1.0\n",
       "m_pred[12] 134.48    0.19  11.86  112.0  126.0  134.0  142.0  159.0   3807    1.0\n",
       "m_pred[13] 115.26    0.17  11.04   94.0 107.45  115.0  123.0  137.0   4037    1.0\n",
       "m_pred[14] 108.09    0.17  10.69   88.0  101.0  108.0  115.0  129.0   3929    1.0\n",
       "m_pred[15] 106.28    0.17  10.67   86.0   99.0  106.0  113.0  128.0   3999    1.0\n",
       "m_pred[16]  98.89    0.18  10.16   80.0   92.0   99.0  106.0  119.0   3348    1.0\n",
       "m_pred[17] 110.85    0.18  10.86   90.4  103.0  111.0  118.0  133.0   3839    1.0\n",
       "m_pred[18]  85.02    0.16   9.52   67.0   79.0   85.0   91.0  104.0   3645    1.0\n",
       "m_pred[19]  199.6    0.26  15.81  170.0  189.0  199.0  210.0  231.0   3561    1.0\n",
       "m_pred[20] 158.35    0.24  13.03  134.0  149.0  158.0  167.0  185.0   3031    1.0\n",
       "m_pred[21]  88.71    0.16   9.68   70.0   82.0   89.0   95.0  108.0   3545    1.0\n",
       "m_pred[22] 106.41    0.18  10.59   86.0   99.0  106.0  113.0  128.0   3407    1.0\n",
       "m_pred[23] 104.59    0.17   10.4   85.0   98.0  104.0  111.0  125.0   3760    1.0\n",
       "m_pred[24] 142.03    0.19  12.03  119.0  134.0  142.0  150.0  166.0   4138    1.0\n",
       "m_pred[25] 114.74    0.18  11.01   94.0  107.0  114.0  122.0  137.0   3780    1.0\n",
       "m_pred[26] 125.63    0.19  11.37  104.0  118.0  125.0  133.0  149.0   3697    1.0\n",
       "m_pred[27] 115.33    0.17  10.69   95.0  108.0  115.0  122.0  137.0   3771    1.0\n",
       "m_pred[28] 115.68    0.17  10.98   94.0  108.0  116.0  123.0  137.0   4042    1.0\n",
       "m_pred[29] 163.38    0.21  13.08  138.0  154.0  163.0  172.0  189.0   3745    1.0\n",
       "m_pred[30] 109.95    0.17  10.84   89.0  102.0  110.0  117.0  132.0   3850    1.0\n",
       "m_pred[31] 170.62    0.25  13.95  144.0  161.0  171.0  180.0  199.0   3171    1.0\n",
       "m_pred[32]  80.12    0.16   9.48   62.0   73.0   80.0   86.0   99.0   3363    1.0\n",
       "m_pred[33] 136.48     0.2  12.05  113.0  128.0  136.0  145.0 160.59   3496    1.0\n",
       "m_pred[34] 121.19    0.18  11.23  100.0  114.0  121.0  129.0  144.0   3856    1.0\n",
       "m_pred[35] 122.74    0.18  11.12  101.0  115.0  123.0  130.0  145.0   3805    1.0\n",
       "m_pred[36] 127.53    0.19  11.44  106.0  120.0  128.0  135.0  150.0   3466    1.0\n",
       "m_pred[37]  103.8    0.17  10.31   84.0   97.0  104.0  111.0 124.59   3882    1.0\n",
       "m_pred[38] 107.47    0.18  10.58   88.0  100.0  107.0  114.0  129.0   3539    1.0\n",
       "m_pred[39]  90.23    0.16   9.73   72.0   84.0   90.0   97.0  110.0   3671    1.0\n",
       "m_pred[40]  89.44    0.16    9.7   71.0   83.0   89.0   96.0  109.0   3531    1.0\n",
       "m_pred[41] 125.48    0.18  11.27  104.0  118.0  125.0  133.0  148.0   3818    1.0\n",
       "m_pred[42] 129.65    0.19  11.59  108.0  122.0  130.0  137.0  153.0   3774    1.0\n",
       "m_pred[43] 118.41    0.18  10.97   97.0  111.0  118.0  126.0  141.0   3786    1.0\n",
       "m_pred[44] 146.61     0.2  12.51  123.0  138.0  146.0  155.0  171.0   3921    1.0\n",
       "m_pred[45] 194.62    0.27  15.35  166.0  184.0  194.0  205.0  226.0   3316    1.0\n",
       "m_pred[46] 102.78    0.18  10.15   84.0   96.0  103.0  110.0  124.0   3286    1.0\n",
       "lp__        2.3e4    0.04   1.29  2.3e4  2.3e4  2.3e4  2.3e4  2.3e4   1239    1.0\n",
       "\n",
       "Samples were drawn using NUTS at Sat Nov  9 17:29:22 2019.\n",
       "For each parameter, n_eff is a crude measure of effective sample size,\n",
       "and Rhat is the potential scale reduction factor on split chains (at \n",
       "convergence, Rhat=1)."
      ]
     },
     "execution_count": 52,
     "metadata": {},
     "output_type": "execute_result"
    }
   ],
   "source": [
    "params"
   ]
  }
 ],
 "metadata": {
  "kernelspec": {
   "display_name": "Python 3",
   "language": "python",
   "name": "python3"
  },
  "language_info": {
   "codemirror_mode": {
    "name": "ipython",
    "version": 3
   },
   "file_extension": ".py",
   "mimetype": "text/x-python",
   "name": "python",
   "nbconvert_exporter": "python",
   "pygments_lexer": "ipython3",
   "version": "3.7.2"
  }
 },
 "nbformat": 4,
 "nbformat_minor": 2
}
