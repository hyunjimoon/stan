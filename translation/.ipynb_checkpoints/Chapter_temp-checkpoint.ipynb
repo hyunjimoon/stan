{
 "cells": [
  {
   "cell_type": "code",
   "execution_count": 2,
   "metadata": {},
   "outputs": [],
   "source": [
    "# Import libraries\n",
    "import pystan # install with pip install pystan\n",
    "import pandas as pd\n",
    "import numpy as np\n",
    "import seaborn as sns\n",
    "from scipy.stats import beta\n",
    "import matplotlib.pyplot as plt\n",
    "import pickle\n",
    "import hashlib\n",
    "import time\n",
    "\n",
    "def get_stan_model(code):\n",
    "    code_hash = hashlib.sha1(code.encode('utf-8')).hexdigest()\n",
    "    cache_path =  './cache/' + code_hash + '.pkl'\n",
    "    try:\n",
    "        with open(cache_path, 'rb') as file:\n",
    "            model = pickle.load(file)\n",
    "    except Exception:\n",
    "        model = pystan.StanModel(model_code=code) ## c로 변환\n",
    "        with open(cache_path, 'wb') as file:\n",
    "            pickle.dump(model, file)\n",
    "    return model"
   ]
  },
  {
   "cell_type": "markdown",
   "metadata": {},
   "source": [
    "## 7.1 상호작용"
   ]
  },
  {
   "cell_type": "markdown",
   "metadata": {},
   "source": [
    "독립변수 간의 교호작용들 등 곱한 항 고려 - 아르바이트 여부가 score가 출석수 y에 미치는 영향의 정도에 영향을 줄때, 위 식을 아래 식으로 변환"
   ]
  },
  {
   "cell_type": "code",
   "execution_count": 3,
   "metadata": {},
   "outputs": [],
   "source": [
    "#data\n",
    "df = pd.read_csv('data/data-conc.txt')\n",
    "\n",
    "#model\n",
    "model_5_4 ='''\n",
    "data {\n",
    "    int T;\n",
    "    vector [T] Time;\n",
    "    vector [T] Y;\n",
    "}\n",
    "\n",
    "parameters {\n",
    "    real <lower = 0, upper = 100> a;\n",
    "    real <lower = 0, upper = 5> b;\n",
    "    real <lower = 0> sigma;\n",
    "}\n",
    "\n",
    "model {\n",
    "    Y ~ normal(a + b * exp(-b * Time), sigma);\n",
    "}\n",
    "        \n",
    "\n",
    "'''\n",
    "\n",
    "#python interface\n",
    "\n",
    "data = {\n",
    "    'T': df.shape[0],\n",
    "    'Time' : df.iloc[:,0],\n",
    "    'Y' : df.iloc[:,1],\n",
    "}\n",
    "\n",
    "#result\n",
    "model_5_4 = get_stan_model(model_5_4)\n",
    "params = model_5_4.sampling(data = data)\n"
   ]
  },
  {
   "cell_type": "code",
   "execution_count": null,
   "metadata": {},
   "outputs": [],
   "source": []
  }
 ],
 "metadata": {
  "kernelspec": {
   "display_name": "Python 3",
   "language": "python",
   "name": "python3"
  },
  "language_info": {
   "codemirror_mode": {
    "name": "ipython",
    "version": 3
   },
   "file_extension": ".py",
   "mimetype": "text/x-python",
   "name": "python",
   "nbconvert_exporter": "python",
   "pygments_lexer": "ipython3",
   "version": "3.7.6"
  }
 },
 "nbformat": 4,
 "nbformat_minor": 2
}
