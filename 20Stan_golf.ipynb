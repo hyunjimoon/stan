{
 "cells": [
  {
   "cell_type": "markdown",
   "metadata": {
    "colab_type": "text",
    "id": "view-in-github"
   },
   "source": [
    "<a href=\"https://colab.research.google.com/github/hyunjimoon/stan/blob/master/20Stan_golf.ipynb\" target=\"_parent\"><img src=\"https://colab.research.google.com/assets/colab-badge.svg\" alt=\"Open In Colab\"/></a>"
   ]
  },
  {
   "cell_type": "code",
   "execution_count": 72,
   "metadata": {},
   "outputs": [],
   "source": [
    "import cmdstanpy\n",
    "import pandas as pd\n",
    "import numpy as np\n",
    "from scipy.stats import beta\n",
    "import matplotlib.pyplot as plt\n",
    "import os\n",
    "from cmdstanpy import CmdStanModel, cmdstan_path\n",
    "\n",
    "\n",
    "def get_stan_model(code):\n",
    "    code_hash = hashlib.sha1(code.encode('utf-8')).hexdigest()\n",
    "    cache_path =  './cache/' + code_hash + '.pkl'\n",
    "    try:\n",
    "        with open(cache_path, 'rb') as file:\n",
    "            model = pickle.load(file)\n",
    "    except Exception:\n",
    "        model = pystan.StanModel(model_code=code) ## c로 변환\n",
    "        with open(cache_path, 'wb') as file:\n",
    "            pickle.dump(model, file)\n",
    "    return model"
   ]
  },
  {
   "cell_type": "code",
   "execution_count": 73,
   "metadata": {},
   "outputs": [],
   "source": [
    "df = pd.read_csv('data/golf_data.txt')\n",
    "new_df = pd.read_csv('data/golf_newdata.txt')"
   ]
  },
  {
   "cell_type": "markdown",
   "metadata": {},
   "source": [
    "## Testing the fitted model on new data\n",
    "\n",
    "Recently a local business school professor and golfer, Mark Broadie, came by my office with tons of new data. For simplicity we’ll just look here at the summary data, probabilities of the ball going into the hole for shots up to 75 feet from the hole. The graph below shows these new data (in red), along with our earlier dataset (in blue) and the already-fit geometry-based model from before, extending to the range of the new data.\n",
    "\n"
   ]
  },
  {
   "cell_type": "markdown",
   "metadata": {},
   "source": [
    "![title](data/img/checking_alreadyfit.png)"
   ]
  },
  {
   "cell_type": "markdown",
   "metadata": {},
   "source": [
    "Comparing the two datasets in the range 0-20 feet, the success rate is similar for longer putts but is much higher than before for the short putts. This could be a measurement issue, if the distances to the hole are only approximate for the old data, and it could also be that golfers are better than they used to be.\n",
    "\n",
    "Beyond 20 feet, the empirical success rates become lower than would be predicted by the old model. These are much more difficult attempts, even after accounting for the increased angular precision required as distance goes up."
   ]
  },
  {
   "cell_type": "markdown",
   "metadata": {},
   "source": [
    "## A new model accounting for how hard the ball is hit\n",
    "To get the ball in the hole, the angle isn’t the only thing you need to control; you also need to hit the ball just hard enough.\n",
    "\n",
    "Mark Broadie added this to our model by introducing another parameter corresponding to the golfer’s control over distance. Supposing uu is the distance that golfer’s shot would travel if there were no hole, Broadie assumes that the putt will go in if (a) the angle allows the ball to go over the hole, and (b) uu is in the range [x,x+3]. That is the ball must be hit hard enough to reach the whole but not go too far. Factor (a) is what we have considered earlier; we must now add factor (b).\n",
    "\n",
    "The following sketch, which is not to scale, illustrates the need for the distance as angle as well as the angle of the shot to be in some range, in this case the gray zone which represents the trajectories for which the ball would reach the hole and stay in it."
   ]
  },
  {
   "cell_type": "markdown",
   "metadata": {},
   "source": [
    "![title](data/img/golf_physical_model.png)"
   ]
  },
  {
   "cell_type": "markdown",
   "metadata": {},
   "source": [
    "Broadie supposes that a golfer will aim to hit the ball one foot past the hole but with a multiplicative error in the shot’s potential distance, so that u=(x+1)⋅(1+error)u=(x+1)⋅(1+error), where the error has a normal distribution with mean 0 and standard deviation σdistanceσdistance. This new parameter σdistanceσdistance represents the uncertainty in the shot’s relative distance. In statistics notation, this model is,\n",
    "\n",
    "$$ u∼normal(x+1,(x+1)\\sigma_{distance}),$$\n",
    "and the distance is acceptable if u∈[x,x+3], an event that has probability \n",
    "$$\\Phi\\left(\\frac{2}{(x+1) \\sigma_{distance}}\\right)-\\Phi\\left(\\frac{-1}{(x+1) \\sigma_{distance}}\\right)$$\n",
    "\n",
    "Putting these together, the probability a shot goes in becomes, \n",
    "\n",
    "$$\\left(2 \\Phi\\left(\\frac{\\sin ^{-1}((R-r)(x)}{\\sigma_{\\text {angle}}}\\right)-1\\right)\\left(\\Phi\\left(\\frac{2}{(x+1) \\sigma_{\\text {distance }}}\\right)-\\Phi\\left(\\frac{-1}{(x+1) \\sigma_{\\text {distance }}}\\right)\\right)$$\n",
    "\n",
    "where we have renamed the parameter σσ from our earlier model to σangleσangle to distinguish it from the new σdistanceσdistance parameter. We write the new model in Stan, giving it the name `golf_angle_distance_2.stan` to convey that it is the second model in a series, and that it accounts both for angle and distance:"
   ]
  },
  {
   "cell_type": "code",
   "execution_count": 74,
   "metadata": {
    "scrolled": true
   },
   "outputs": [],
   "source": [
    "## \\distance 겹치는 것과 frac 중간 선은 어디로ㅠㅠ"
   ]
  },
  {
   "cell_type": "markdown",
   "metadata": {},
   "source": [
    "```\n",
    "data {\n",
    "  int J;\n",
    "  int n[J];\n",
    "  vector[J] x;\n",
    "  int y[J];\n",
    "  real r;\n",
    "  real R;\n",
    "  real overshot;\n",
    "  real distance_tolerance;\n",
    "}\n",
    "transformed data {\n",
    "  vector[J] threshold_angle = asin((R-r) ./ x);\n",
    "}\n",
    "parameters {\n",
    "  real<lower=0> sigma_angle;\n",
    "  real<lower=0> sigma_distance;\n",
    "}\n",
    "model {\n",
    "  vector[J] p_angle = 2*Phi(threshold_angle / sigma_angle) - 1;\n",
    "  vector[J] p_distance = Phi((distance_tolerance - overshot) ./ ((x + overshot)*sigma_distance)) -\n",
    "               Phi((- overshot) ./ ((x + overshot)*sigma_distance));\n",
    "  vector[J] p = p_angle .* p_distance;\n",
    "  y ~ binomial(n, p);\n",
    "  [sigma_angle, sigma_distance] ~ normal(0, 1);\n",
    "}\n",
    "generated quantities {\n",
    "  real sigma_degrees = sigma_angle * 180 / pi();\n",
    "}\n",
    "```"
   ]
  },
  {
   "cell_type": "markdown",
   "metadata": {},
   "source": [
    "Here we have defined `overshot` and `distance_tolerance` as data, which Broadie has specified as 1 and 3 feet, respectively. We might wonder why if the distance range is 3 feet, the overshot is not 1.5 feet. One reason could be that it is riskier to hit the ball too hard than too soft. In addition we assigned weakly informative half-normal(0,1) priors on the scale parameters, σangleσangle and σdistanceσdistance, which are required in this case to keep the computations stable."
   ]
  },
  {
   "cell_type": "code",
   "execution_count": 79,
   "metadata": {},
   "outputs": [
    {
     "name": "stderr",
     "output_type": "stream",
     "text": [
      "INFO:cmdstanpy:compiling stan program, exe file: /Users/hyunjimoon/Dropbox/stan/stan/stanfile/golf_angle_distance_2\n",
      "INFO:cmdstanpy:compiler options: stanc_options=None, cpp_options=None\n",
      "INFO:cmdstanpy:compiled model file: /Users/hyunjimoon/Dropbox/stan/stan/stanfile/golf_angle_distance_2\n"
     ]
    }
   ],
   "source": [
    "# specify Stan file, create, compile CmdStanModel object\n",
    "golf_angle_distance_2_path = os.path.join('./stanfile','golf_angle_distance_2.stan')\n",
    "golf_angle_distance_2_model = CmdStanModel(stan_file=golf_angle_distance_2_path)"
   ]
  },
  {
   "cell_type": "code",
   "execution_count": 84,
   "metadata": {},
   "outputs": [
    {
     "name": "stderr",
     "output_type": "stream",
     "text": [
      "INFO:cmdstanpy:start chain 1\n",
      "INFO:cmdstanpy:start chain 2\n",
      "INFO:cmdstanpy:start chain 3\n",
      "INFO:cmdstanpy:finish chain 2\n",
      "INFO:cmdstanpy:start chain 4\n",
      "INFO:cmdstanpy:finish chain 3\n",
      "INFO:cmdstanpy:start chain 5\n",
      "INFO:cmdstanpy:finish chain 1\n",
      "INFO:cmdstanpy:finish chain 4\n",
      "INFO:cmdstanpy:finish chain 5\n"
     ]
    }
   ],
   "source": [
    "golf_angle_distance_2_data = {\n",
    "    \"J\": df.shape[0],\n",
    "    \"n\": list(df.loc[:,'n']),\n",
    "    \"x\": list(df.loc[:,'x']),\n",
    "    \"y\": list(df.loc[:,'y']),\n",
    "    \"r\": (1.68/2)/12,\n",
    "    \"R\": (4.25/2)/12,\n",
    "    \"overshot\": 1,\n",
    "    \"distance_tolerance\": 3,\n",
    "}\n",
    "golf_angle_distance_2_fit = golf_angle_distance_2_model.sample(chains=5, cores=3, data=golf_angle_distance_2_data)"
   ]
  },
  {
   "cell_type": "markdown",
   "metadata": {},
   "source": [
    "## Fitting the new model to data\n",
    "We fit the model to the new dataset."
   ]
  },
  {
   "cell_type": "markdown",
   "metadata": {},
   "source": [
    "To understand what is happening, we graph the new data and the fitted model, accepting that this “fit,” based as it is on poorly-mixing chains, is only provisional:"
   ]
  },
  {
   "cell_type": "code",
   "execution_count": 89,
   "metadata": {},
   "outputs": [
    {
     "data": {
      "text/html": [
       "<div>\n",
       "<style scoped>\n",
       "    .dataframe tbody tr th:only-of-type {\n",
       "        vertical-align: middle;\n",
       "    }\n",
       "\n",
       "    .dataframe tbody tr th {\n",
       "        vertical-align: top;\n",
       "    }\n",
       "\n",
       "    .dataframe thead th {\n",
       "        text-align: right;\n",
       "    }\n",
       "</style>\n",
       "<table border=\"1\" class=\"dataframe\">\n",
       "  <thead>\n",
       "    <tr style=\"text-align: right;\">\n",
       "      <th></th>\n",
       "      <th>x</th>\n",
       "      <th>n</th>\n",
       "      <th>y</th>\n",
       "    </tr>\n",
       "  </thead>\n",
       "  <tbody>\n",
       "    <tr>\n",
       "      <td>0</td>\n",
       "      <td>0.28</td>\n",
       "      <td>45198</td>\n",
       "      <td>45183</td>\n",
       "    </tr>\n",
       "    <tr>\n",
       "      <td>1</td>\n",
       "      <td>0.97</td>\n",
       "      <td>183020</td>\n",
       "      <td>182899</td>\n",
       "    </tr>\n",
       "    <tr>\n",
       "      <td>2</td>\n",
       "      <td>1.93</td>\n",
       "      <td>169503</td>\n",
       "      <td>168594</td>\n",
       "    </tr>\n",
       "    <tr>\n",
       "      <td>3</td>\n",
       "      <td>2.92</td>\n",
       "      <td>113094</td>\n",
       "      <td>108953</td>\n",
       "    </tr>\n",
       "    <tr>\n",
       "      <td>4</td>\n",
       "      <td>3.93</td>\n",
       "      <td>73855</td>\n",
       "      <td>64740</td>\n",
       "    </tr>\n",
       "  </tbody>\n",
       "</table>\n",
       "</div>"
      ],
      "text/plain": [
       "      x       n       y\n",
       "0  0.28   45198   45183\n",
       "1  0.97  183020  182899\n",
       "2  1.93  169503  168594\n",
       "3  2.92  113094  108953\n",
       "4  3.93   73855   64740"
      ]
     },
     "execution_count": 89,
     "metadata": {},
     "output_type": "execute_result"
    }
   ],
   "source": [
    "new_df.iloc[:5,]"
   ]
  },
  {
   "cell_type": "markdown",
   "metadata": {},
   "source": [
    "With such large values of $n_j$, the binomial likelihood enforces an extremely close fit at these first few points, and that drives the entire fit of the model.\n",
    "\n",
    "To fix this problem we took the data model, $yj∼binomial(nj,pj)$, and added an independent error term to each observation. There is no easy way to add error directly to the binomial distribution—we could replace it with its overdispersed generalization, the beta-binomial, but this would not be appropriate here because the variance for each data point ii would still be roughly proportional to the sample size njnj, and our whole point here is to get away from this assumption and allow for model misspecification—so instead we first approximate the binomial data distribution by a normal and then add independent variance; thus:\n",
    "\n",
    "$$\n",
    "y_{j} / n_{j} \\sim \\text { normal }\\left(p_{j}, \\sqrt{p_{j}\\left(1-p_{j}\\right) / n_{j}+\\sigma_{y}^{2}}\\right)\n",
    "$$\n",
    "\n",
    "To write this in Stan there are some complications:\n",
    "\n",
    "y and n are integer variables, which we convert to vectors so that we can multiply and divide them.\n",
    "\n",
    "To perform componentwise multiplication or division using vectors, you need to use `.*` or `./` so that San knows not to try to perform vector/matrix multiplication and division. Stan is opposite from R in this way: Stan defaults to vector/matrix operations and has to be told otherwise, whereas R defaults to componentwise operations, and vector/matrix multiplication in R is indicated using the %*% operator.\n",
    "\n",
    "We implement these via the following new code in the transformed data block:"
   ]
  },
  {
   "cell_type": "code",
   "execution_count": null,
   "metadata": {},
   "outputs": [],
   "source": []
  }
 ],
 "metadata": {
  "colab": {
   "authorship_tag": "ABX9TyPCDObAAYAL9GNNeG1s7R5+",
   "include_colab_link": true,
   "name": "20Stan_golf",
   "provenance": []
  },
  "kernelspec": {
   "display_name": "Python 3",
   "language": "python",
   "name": "python3"
  },
  "language_info": {
   "codemirror_mode": {
    "name": "ipython",
    "version": 3
   },
   "file_extension": ".py",
   "mimetype": "text/x-python",
   "name": "python",
   "nbconvert_exporter": "python",
   "pygments_lexer": "ipython3",
   "version": "3.7.6"
  }
 },
 "nbformat": 4,
 "nbformat_minor": 1
}
